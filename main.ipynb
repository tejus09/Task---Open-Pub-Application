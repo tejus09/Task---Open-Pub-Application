{
 "cells": [
  {
   "cell_type": "code",
   "execution_count": 15,
   "metadata": {},
   "outputs": [],
   "source": [
    "import numpy as np\n",
    "import pandas as pd\n",
    "import seaborn as sns\n",
    "import matplotlib.pyplot as plt"
   ]
  },
  {
   "cell_type": "code",
   "execution_count": 16,
   "metadata": {},
   "outputs": [
    {
     "data": {
      "text/html": [
       "<div>\n",
       "<style scoped>\n",
       "    .dataframe tbody tr th:only-of-type {\n",
       "        vertical-align: middle;\n",
       "    }\n",
       "\n",
       "    .dataframe tbody tr th {\n",
       "        vertical-align: top;\n",
       "    }\n",
       "\n",
       "    .dataframe thead th {\n",
       "        text-align: right;\n",
       "    }\n",
       "</style>\n",
       "<table border=\"1\" class=\"dataframe\">\n",
       "  <thead>\n",
       "    <tr style=\"text-align: right;\">\n",
       "      <th></th>\n",
       "      <th>fsa_id</th>\n",
       "      <th>name</th>\n",
       "      <th>address</th>\n",
       "      <th>postcode</th>\n",
       "      <th>easting</th>\n",
       "      <th>northing</th>\n",
       "      <th>latitude</th>\n",
       "      <th>longitude</th>\n",
       "      <th>local_authority</th>\n",
       "    </tr>\n",
       "  </thead>\n",
       "  <tbody>\n",
       "    <tr>\n",
       "      <th>0</th>\n",
       "      <td>22</td>\n",
       "      <td>Anchor Inn</td>\n",
       "      <td>Upper Street, Stratford St Mary, COLCHESTER</td>\n",
       "      <td>CO7 6LW</td>\n",
       "      <td>604749</td>\n",
       "      <td>234404</td>\n",
       "      <td>51.970379</td>\n",
       "      <td>0.979340</td>\n",
       "      <td>Babergh</td>\n",
       "    </tr>\n",
       "    <tr>\n",
       "      <th>1</th>\n",
       "      <td>36</td>\n",
       "      <td>Ark Bar Restaurant</td>\n",
       "      <td>Ark Bar And Restaurant, Cattawade Street, Bran...</td>\n",
       "      <td>CO11 1RH</td>\n",
       "      <td>610194</td>\n",
       "      <td>233329</td>\n",
       "      <td>51.958698</td>\n",
       "      <td>1.057832</td>\n",
       "      <td>Babergh</td>\n",
       "    </tr>\n",
       "    <tr>\n",
       "      <th>2</th>\n",
       "      <td>74</td>\n",
       "      <td>Black Boy</td>\n",
       "      <td>The Lady Elizabeth, 7 Market Hill, SUDBURY, Su...</td>\n",
       "      <td>CO10 2EA</td>\n",
       "      <td>587334</td>\n",
       "      <td>241316</td>\n",
       "      <td>52.038595</td>\n",
       "      <td>0.729915</td>\n",
       "      <td>Babergh</td>\n",
       "    </tr>\n",
       "    <tr>\n",
       "      <th>3</th>\n",
       "      <td>75</td>\n",
       "      <td>Black Horse</td>\n",
       "      <td>Lower Street, Stratford St Mary, COLCHESTER</td>\n",
       "      <td>CO7 6JS</td>\n",
       "      <td>622675</td>\n",
       "      <td>-5527598</td>\n",
       "      <td>\\N</td>\n",
       "      <td>\\N</td>\n",
       "      <td>Babergh</td>\n",
       "    </tr>\n",
       "    <tr>\n",
       "      <th>4</th>\n",
       "      <td>76</td>\n",
       "      <td>Black Lion</td>\n",
       "      <td>Lion Road, Glemsford, SUDBURY</td>\n",
       "      <td>CO10 7RF</td>\n",
       "      <td>622675</td>\n",
       "      <td>-5527598</td>\n",
       "      <td>\\N</td>\n",
       "      <td>\\N</td>\n",
       "      <td>Babergh</td>\n",
       "    </tr>\n",
       "  </tbody>\n",
       "</table>\n",
       "</div>"
      ],
      "text/plain": [
       "   fsa_id                name  \\\n",
       "0      22          Anchor Inn   \n",
       "1      36  Ark Bar Restaurant   \n",
       "2      74           Black Boy   \n",
       "3      75         Black Horse   \n",
       "4      76          Black Lion   \n",
       "\n",
       "                                             address  postcode  easting  \\\n",
       "0        Upper Street, Stratford St Mary, COLCHESTER   CO7 6LW   604749   \n",
       "1  Ark Bar And Restaurant, Cattawade Street, Bran...  CO11 1RH   610194   \n",
       "2  The Lady Elizabeth, 7 Market Hill, SUDBURY, Su...  CO10 2EA   587334   \n",
       "3        Lower Street, Stratford St Mary, COLCHESTER   CO7 6JS   622675   \n",
       "4                      Lion Road, Glemsford, SUDBURY  CO10 7RF   622675   \n",
       "\n",
       "   northing   latitude longitude local_authority  \n",
       "0    234404  51.970379  0.979340         Babergh  \n",
       "1    233329  51.958698  1.057832         Babergh  \n",
       "2    241316  52.038595  0.729915         Babergh  \n",
       "3  -5527598         \\N        \\N         Babergh  \n",
       "4  -5527598         \\N        \\N         Babergh  "
      ]
     },
     "execution_count": 16,
     "metadata": {},
     "output_type": "execute_result"
    }
   ],
   "source": [
    "data = pd.read_csv('open_pubs.csv', header=None)\n",
    "data.columns = ['fsa_id', 'name', 'address', 'postcode', 'easting', 'northing', 'latitude', 'longitude', 'local_authority']\n",
    "data.head()"
   ]
  },
  {
   "cell_type": "code",
   "execution_count": 17,
   "metadata": {},
   "outputs": [
    {
     "name": "stdout",
     "output_type": "stream",
     "text": [
      "<class 'pandas.core.frame.DataFrame'>\n",
      "RangeIndex: 51331 entries, 0 to 51330\n",
      "Data columns (total 9 columns):\n",
      " #   Column           Non-Null Count  Dtype \n",
      "---  ------           --------------  ----- \n",
      " 0   fsa_id           51331 non-null  int64 \n",
      " 1   name             51331 non-null  object\n",
      " 2   address          51331 non-null  object\n",
      " 3   postcode         51331 non-null  object\n",
      " 4   easting          51331 non-null  int64 \n",
      " 5   northing         51331 non-null  int64 \n",
      " 6   latitude         51331 non-null  object\n",
      " 7   longitude        51331 non-null  object\n",
      " 8   local_authority  51331 non-null  object\n",
      "dtypes: int64(3), object(6)\n",
      "memory usage: 3.5+ MB\n"
     ]
    }
   ],
   "source": [
    "data.info()"
   ]
  },
  {
   "cell_type": "code",
   "execution_count": 18,
   "metadata": {},
   "outputs": [
    {
     "name": "stdout",
     "output_type": "stream",
     "text": [
      "22        1\n",
      "398361    1\n",
      "398150    1\n",
      "398151    1\n",
      "398173    1\n",
      "         ..\n",
      "210589    1\n",
      "210606    1\n",
      "210617    1\n",
      "210675    1\n",
      "597137    1\n",
      "Name: fsa_id, Length: 51331, dtype: int64\n",
      "--------------------------------------------------\n",
      "The Red Lion         197\n",
      "The Royal Oak        170\n",
      "Red Lion             131\n",
      "The Crown Inn        115\n",
      "The White Hart       103\n",
      "                    ... \n",
      "The Study Room         1\n",
      "The Snug Micropub      1\n",
      "The Palatine           1\n",
      "The Nib                1\n",
      "Y Tai                  1\n",
      "Name: name, Length: 36335, dtype: int64\n",
      "--------------------------------------------------\n",
      "Uttoxeter Racecourse, Wood Lane, Uttoxeter                10\n",
      "Butlins Skyline Ltd, Roman Bank, Ingoldmells               9\n",
      "Linlithgow, West Lothian                                   8\n",
      "Escape to Freight Island, 11 Baring Street, Manchester     6\n",
      "Butlins Upper Bognor Road, Bognor Regis, West Sussex       6\n",
      "                                                          ..\n",
      "St Marys Parish Centre, Devonshire Road, Chorley           1\n",
      "12 Railway Street, Chorley                                 1\n",
      "2 Preston Road, Whittle-Le-Woods, Chorley                  1\n",
      "67 Chapel Street, Chorley                                  1\n",
      "Y Tai Railway Road, Brymbo, Wrexham, Wrexham               1\n",
      "Name: address, Length: 50013, dtype: int64\n",
      "--------------------------------------------------\n",
      "GU24 0NY    12\n",
      "L2 6RE      11\n",
      "ST14 8BD    10\n",
      "CA1 1RP      9\n",
      "PE25 1NJ     9\n",
      "            ..\n",
      "L13 0AR      1\n",
      "L8 0QQ       1\n",
      "L19 5NB      1\n",
      "L16 6AW      1\n",
      "LL11 5EA     1\n",
      "Name: postcode, Length: 45886, dtype: int64\n",
      "--------------------------------------------------\n",
      "622675    767\n",
      "493803     12\n",
      "409926     10\n",
      "557142      9\n",
      "396816      8\n",
      "         ... \n",
      "334292      1\n",
      "337745      1\n",
      "334686      1\n",
      "336198      1\n",
      "329721      1\n",
      "Name: easting, Length: 43229, dtype: int64\n",
      "--------------------------------------------------\n",
      "-5527598    767\n",
      " 157729      13\n",
      " 333201      10\n",
      " 367144       9\n",
      " 602766       8\n",
      "           ... \n",
      " 389962       1\n",
      " 388485       1\n",
      " 390347       1\n",
      " 382916       1\n",
      " 353785       1\n",
      "Name: northing, Length: 43896, dtype: int64\n",
      "--------------------------------------------------\n",
      "\\N           767\n",
      "51.310946     10\n",
      "52.896164     10\n",
      "53.178189      9\n",
      "55.318954      8\n",
      "            ... \n",
      "53.369771      1\n",
      "53.390799      1\n",
      "53.371238      1\n",
      "53.361078      1\n",
      "53.076638      1\n",
      "Name: latitude, Length: 46810, dtype: int64\n",
      "--------------------------------------------------\n",
      "\\N           767\n",
      "-0.655576     12\n",
      "-1.853894     10\n",
      "0.349896       9\n",
      "-2.051721      8\n",
      "            ... \n",
      "-2.734245      1\n",
      "-2.735554      1\n",
      "-2.733804      1\n",
      "-2.735118      1\n",
      "-3.050512      1\n",
      "Name: longitude, Length: 46807, dtype: int64\n",
      "--------------------------------------------------\n",
      "County Durham         686\n",
      "Leeds                 611\n",
      "Cornwall              564\n",
      "Wiltshire             549\n",
      "Kirklees              525\n",
      "                     ... \n",
      "Shetland Islands       26\n",
      "Orkney Islands         15\n",
      "East Renfrewshire      12\n",
      "Na h-Eileanan Siar     11\n",
      "Isles of Scilly        10\n",
      "Name: local_authority, Length: 360, dtype: int64\n",
      "--------------------------------------------------\n"
     ]
    }
   ],
   "source": [
    "for col in data:\n",
    "    print(data[col].value_counts())\n",
    "    print(\"-\"*50)"
   ]
  },
  {
   "cell_type": "code",
   "execution_count": 19,
   "metadata": {},
   "outputs": [
    {
     "data": {
      "text/plain": [
       "\\N           767\n",
       "51.310946     10\n",
       "52.896164     10\n",
       "53.178189      9\n",
       "55.318954      8\n",
       "            ... \n",
       "53.369771      1\n",
       "53.390799      1\n",
       "53.371238      1\n",
       "53.361078      1\n",
       "53.076638      1\n",
       "Name: latitude, Length: 46810, dtype: int64"
      ]
     },
     "execution_count": 19,
     "metadata": {},
     "output_type": "execute_result"
    }
   ],
   "source": [
    "data.latitude.value_counts()"
   ]
  },
  {
   "cell_type": "code",
   "execution_count": 20,
   "metadata": {},
   "outputs": [
    {
     "data": {
      "text/plain": [
       "\\N           767\n",
       "-0.655576     12\n",
       "-1.853894     10\n",
       "0.349896       9\n",
       "-2.051721      8\n",
       "            ... \n",
       "-2.734245      1\n",
       "-2.735554      1\n",
       "-2.733804      1\n",
       "-2.735118      1\n",
       "-3.050512      1\n",
       "Name: longitude, Length: 46807, dtype: int64"
      ]
     },
     "execution_count": 20,
     "metadata": {},
     "output_type": "execute_result"
    }
   ],
   "source": [
    "data.longitude.value_counts()"
   ]
  },
  {
   "cell_type": "code",
   "execution_count": 21,
   "metadata": {},
   "outputs": [],
   "source": [
    "# Replace \\N values with NaN\n",
    "data = data.replace('\\\\N', np.nan)\n",
    "# Drop rows with NaN values\n",
    "data = data.dropna()"
   ]
  },
  {
   "cell_type": "code",
   "execution_count": 22,
   "metadata": {},
   "outputs": [
    {
     "data": {
      "text/html": [
       "<div>\n",
       "<style scoped>\n",
       "    .dataframe tbody tr th:only-of-type {\n",
       "        vertical-align: middle;\n",
       "    }\n",
       "\n",
       "    .dataframe tbody tr th {\n",
       "        vertical-align: top;\n",
       "    }\n",
       "\n",
       "    .dataframe thead th {\n",
       "        text-align: right;\n",
       "    }\n",
       "</style>\n",
       "<table border=\"1\" class=\"dataframe\">\n",
       "  <thead>\n",
       "    <tr style=\"text-align: right;\">\n",
       "      <th></th>\n",
       "      <th>fsa_id</th>\n",
       "      <th>name</th>\n",
       "      <th>address</th>\n",
       "      <th>postcode</th>\n",
       "      <th>easting</th>\n",
       "      <th>northing</th>\n",
       "      <th>latitude</th>\n",
       "      <th>longitude</th>\n",
       "      <th>local_authority</th>\n",
       "    </tr>\n",
       "  </thead>\n",
       "  <tbody>\n",
       "    <tr>\n",
       "      <th>50041</th>\n",
       "      <td>584534</td>\n",
       "      <td>Begelly Arms Hotel</td>\n",
       "      <td>Begelly Arms Hotel New Road, Begelly, Pembroke...</td>\n",
       "      <td>SA68 0YF</td>\n",
       "      <td>211702</td>\n",
       "      <td>207030</td>\n",
       "      <td>51.730275</td>\n",
       "      <td>-4.728049</td>\n",
       "      <td>Pembrokeshire</td>\n",
       "    </tr>\n",
       "    <tr>\n",
       "      <th>28166</th>\n",
       "      <td>330899</td>\n",
       "      <td>The Bricklayers Arms</td>\n",
       "      <td>Whitehill Road, Crowborough, East Sussex</td>\n",
       "      <td>TN6 1JA</td>\n",
       "      <td>551611</td>\n",
       "      <td>130200</td>\n",
       "      <td>51.051143</td>\n",
       "      <td>0.161686</td>\n",
       "      <td>Wealden</td>\n",
       "    </tr>\n",
       "    <tr>\n",
       "      <th>19036</th>\n",
       "      <td>231293</td>\n",
       "      <td>Pendle Hippodrome Theatre</td>\n",
       "      <td>Hippodrome, New Market Street, Colne, Lancashire</td>\n",
       "      <td>BB8 9BJ</td>\n",
       "      <td>388809</td>\n",
       "      <td>440114</td>\n",
       "      <td>53.857121</td>\n",
       "      <td>-2.171623</td>\n",
       "      <td>Pendle</td>\n",
       "    </tr>\n",
       "    <tr>\n",
       "      <th>47532</th>\n",
       "      <td>556819</td>\n",
       "      <td>Bar West</td>\n",
       "      <td>165 Almada Street, Hamilton, Lanarkshire</td>\n",
       "      <td>ML3 0ET</td>\n",
       "      <td>271370</td>\n",
       "      <td>655736</td>\n",
       "      <td>55.777784</td>\n",
       "      <td>-4.052362</td>\n",
       "      <td>South Lanarkshire</td>\n",
       "    </tr>\n",
       "    <tr>\n",
       "      <th>18213</th>\n",
       "      <td>222015</td>\n",
       "      <td>Remeniss</td>\n",
       "      <td>4 - 8 Temple Court, Liverpool, Liverpool</td>\n",
       "      <td>L2 6PY</td>\n",
       "      <td>334470</td>\n",
       "      <td>390441</td>\n",
       "      <td>53.406698</td>\n",
       "      <td>-2.987188</td>\n",
       "      <td>Liverpool</td>\n",
       "    </tr>\n",
       "    <tr>\n",
       "      <th>21856</th>\n",
       "      <td>260262</td>\n",
       "      <td>Shoreham Football Club</td>\n",
       "      <td>Shoreham Football Club Middle Road, Shoreham-b...</td>\n",
       "      <td>BN43 6GA</td>\n",
       "      <td>522546</td>\n",
       "      <td>105508</td>\n",
       "      <td>50.836140</td>\n",
       "      <td>-0.261062</td>\n",
       "      <td>Adur</td>\n",
       "    </tr>\n",
       "    <tr>\n",
       "      <th>33614</th>\n",
       "      <td>390202</td>\n",
       "      <td>Marlborough Town Football Club</td>\n",
       "      <td>Elcot Lane, Marlborough, Wiltshire</td>\n",
       "      <td>SN8 2BG</td>\n",
       "      <td>419686</td>\n",
       "      <td>169121</td>\n",
       "      <td>51.420772</td>\n",
       "      <td>-1.718278</td>\n",
       "      <td>Wiltshire</td>\n",
       "    </tr>\n",
       "    <tr>\n",
       "      <th>36341</th>\n",
       "      <td>420109</td>\n",
       "      <td>Springfield Social Club</td>\n",
       "      <td>Springfield Working Mens Club, 198 Dudley Road...</td>\n",
       "      <td>B65 8PX</td>\n",
       "      <td>396342</td>\n",
       "      <td>287962</td>\n",
       "      <td>52.489559</td>\n",
       "      <td>-2.055300</td>\n",
       "      <td>Sandwell</td>\n",
       "    </tr>\n",
       "    <tr>\n",
       "      <th>41247</th>\n",
       "      <td>461853</td>\n",
       "      <td>Tiffanys</td>\n",
       "      <td>Exchange Buliding, Kingston Upon Hull</td>\n",
       "      <td>HU1 1XW</td>\n",
       "      <td>510035</td>\n",
       "      <td>428749</td>\n",
       "      <td>53.743523</td>\n",
       "      <td>-0.333043</td>\n",
       "      <td>Kingston upon Hull, City of</td>\n",
       "    </tr>\n",
       "    <tr>\n",
       "      <th>33662</th>\n",
       "      <td>390753</td>\n",
       "      <td>Queens Head</td>\n",
       "      <td>High Street, Ludgershall, Andover, Wiltshire</td>\n",
       "      <td>SP11 9PZ</td>\n",
       "      <td>426480</td>\n",
       "      <td>150840</td>\n",
       "      <td>51.256123</td>\n",
       "      <td>-1.621941</td>\n",
       "      <td>Wiltshire</td>\n",
       "    </tr>\n",
       "    <tr>\n",
       "      <th>33843</th>\n",
       "      <td>391750</td>\n",
       "      <td>The New Inn</td>\n",
       "      <td>Coate, Devizes, Wiltshire</td>\n",
       "      <td>SN10 3LB</td>\n",
       "      <td>403997</td>\n",
       "      <td>161629</td>\n",
       "      <td>51.353722</td>\n",
       "      <td>-1.943987</td>\n",
       "      <td>Wiltshire</td>\n",
       "    </tr>\n",
       "    <tr>\n",
       "      <th>44487</th>\n",
       "      <td>513090</td>\n",
       "      <td>Gairie Inn</td>\n",
       "      <td>Gairie Inn, 1-3 School Wynd, Kirriemuir</td>\n",
       "      <td>DD8 4BQ</td>\n",
       "      <td>338682</td>\n",
       "      <td>754005</td>\n",
       "      <td>56.673767</td>\n",
       "      <td>-3.002251</td>\n",
       "      <td>Angus</td>\n",
       "    </tr>\n",
       "    <tr>\n",
       "      <th>17525</th>\n",
       "      <td>214588</td>\n",
       "      <td>The La'l Nook</td>\n",
       "      <td>1 Croft Street, Kirkby Stephen</td>\n",
       "      <td>CA17 4QJ</td>\n",
       "      <td>377486</td>\n",
       "      <td>508570</td>\n",
       "      <td>54.471990</td>\n",
       "      <td>-2.348912</td>\n",
       "      <td>Eden</td>\n",
       "    </tr>\n",
       "    <tr>\n",
       "      <th>15033</th>\n",
       "      <td>188680</td>\n",
       "      <td>Prudhoe &amp; Mickley Union Club</td>\n",
       "      <td>45 West Road, Prudhoe, Northumberland</td>\n",
       "      <td>NE42 6HR</td>\n",
       "      <td>409344</td>\n",
       "      <td>562921</td>\n",
       "      <td>54.960837</td>\n",
       "      <td>-1.855608</td>\n",
       "      <td>Northumberland</td>\n",
       "    </tr>\n",
       "    <tr>\n",
       "      <th>30307</th>\n",
       "      <td>354634</td>\n",
       "      <td>The Swordfish</td>\n",
       "      <td>Swordfish Inn, 20 The Strand, Newlyn, Penzance</td>\n",
       "      <td>TR18 5HN</td>\n",
       "      <td>146286</td>\n",
       "      <td>28930</td>\n",
       "      <td>50.106133</td>\n",
       "      <td>-5.549644</td>\n",
       "      <td>Cornwall</td>\n",
       "    </tr>\n",
       "    <tr>\n",
       "      <th>15167</th>\n",
       "      <td>189496</td>\n",
       "      <td>The Oaks Hotel</td>\n",
       "      <td>South Road, Alnwick, Northumberland</td>\n",
       "      <td>NE66 2PN</td>\n",
       "      <td>419518</td>\n",
       "      <td>612752</td>\n",
       "      <td>55.408323</td>\n",
       "      <td>-1.693305</td>\n",
       "      <td>Northumberland</td>\n",
       "    </tr>\n",
       "    <tr>\n",
       "      <th>15170</th>\n",
       "      <td>189499</td>\n",
       "      <td>The Office (Morpeth) Ltd</td>\n",
       "      <td>Chantry Place, Morpeth, Northumberland</td>\n",
       "      <td>NE61 1PJ</td>\n",
       "      <td>420014</td>\n",
       "      <td>585869</td>\n",
       "      <td>55.166744</td>\n",
       "      <td>-1.687375</td>\n",
       "      <td>Northumberland</td>\n",
       "    </tr>\n",
       "    <tr>\n",
       "      <th>51175</th>\n",
       "      <td>595397</td>\n",
       "      <td>Llantwit Major Rugby Club</td>\n",
       "      <td>Llantwit Major Rugby Football Club Boverton Ro...</td>\n",
       "      <td>CF61 1XZ</td>\n",
       "      <td>297013</td>\n",
       "      <td>168764</td>\n",
       "      <td>51.408507</td>\n",
       "      <td>-3.482106</td>\n",
       "      <td>Vale of Glamorgan</td>\n",
       "    </tr>\n",
       "    <tr>\n",
       "      <th>36393</th>\n",
       "      <td>420365</td>\n",
       "      <td>The Lewisham</td>\n",
       "      <td>Dartmouth Golf Club, Vale Street, West Bromwich</td>\n",
       "      <td>B71 4DW</td>\n",
       "      <td>401253</td>\n",
       "      <td>292518</td>\n",
       "      <td>52.530529</td>\n",
       "      <td>-1.982959</td>\n",
       "      <td>Sandwell</td>\n",
       "    </tr>\n",
       "    <tr>\n",
       "      <th>28620</th>\n",
       "      <td>335072</td>\n",
       "      <td>Fuzzy Bear</td>\n",
       "      <td>19 - 21 Goswell Hill, Windsor</td>\n",
       "      <td>SL4 1RH</td>\n",
       "      <td>496599</td>\n",
       "      <td>176890</td>\n",
       "      <td>51.482726</td>\n",
       "      <td>-0.610264</td>\n",
       "      <td>Windsor and Maidenhead</td>\n",
       "    </tr>\n",
       "  </tbody>\n",
       "</table>\n",
       "</div>"
      ],
      "text/plain": [
       "       fsa_id                            name  \\\n",
       "50041  584534              Begelly Arms Hotel   \n",
       "28166  330899            The Bricklayers Arms   \n",
       "19036  231293       Pendle Hippodrome Theatre   \n",
       "47532  556819                        Bar West   \n",
       "18213  222015                        Remeniss   \n",
       "21856  260262          Shoreham Football Club   \n",
       "33614  390202  Marlborough Town Football Club   \n",
       "36341  420109         Springfield Social Club   \n",
       "41247  461853                        Tiffanys   \n",
       "33662  390753                     Queens Head   \n",
       "33843  391750                     The New Inn   \n",
       "44487  513090                      Gairie Inn   \n",
       "17525  214588                   The La'l Nook   \n",
       "15033  188680    Prudhoe & Mickley Union Club   \n",
       "30307  354634                   The Swordfish   \n",
       "15167  189496                  The Oaks Hotel   \n",
       "15170  189499        The Office (Morpeth) Ltd   \n",
       "51175  595397       Llantwit Major Rugby Club   \n",
       "36393  420365                    The Lewisham   \n",
       "28620  335072                      Fuzzy Bear   \n",
       "\n",
       "                                                 address  postcode  easting  \\\n",
       "50041  Begelly Arms Hotel New Road, Begelly, Pembroke...  SA68 0YF   211702   \n",
       "28166           Whitehill Road, Crowborough, East Sussex   TN6 1JA   551611   \n",
       "19036   Hippodrome, New Market Street, Colne, Lancashire   BB8 9BJ   388809   \n",
       "47532           165 Almada Street, Hamilton, Lanarkshire   ML3 0ET   271370   \n",
       "18213           4 - 8 Temple Court, Liverpool, Liverpool    L2 6PY   334470   \n",
       "21856  Shoreham Football Club Middle Road, Shoreham-b...  BN43 6GA   522546   \n",
       "33614                 Elcot Lane, Marlborough, Wiltshire   SN8 2BG   419686   \n",
       "36341  Springfield Working Mens Club, 198 Dudley Road...   B65 8PX   396342   \n",
       "41247              Exchange Buliding, Kingston Upon Hull   HU1 1XW   510035   \n",
       "33662       High Street, Ludgershall, Andover, Wiltshire  SP11 9PZ   426480   \n",
       "33843                          Coate, Devizes, Wiltshire  SN10 3LB   403997   \n",
       "44487            Gairie Inn, 1-3 School Wynd, Kirriemuir   DD8 4BQ   338682   \n",
       "17525                     1 Croft Street, Kirkby Stephen  CA17 4QJ   377486   \n",
       "15033              45 West Road, Prudhoe, Northumberland  NE42 6HR   409344   \n",
       "30307     Swordfish Inn, 20 The Strand, Newlyn, Penzance  TR18 5HN   146286   \n",
       "15167                South Road, Alnwick, Northumberland  NE66 2PN   419518   \n",
       "15170             Chantry Place, Morpeth, Northumberland  NE61 1PJ   420014   \n",
       "51175  Llantwit Major Rugby Football Club Boverton Ro...  CF61 1XZ   297013   \n",
       "36393    Dartmouth Golf Club, Vale Street, West Bromwich   B71 4DW   401253   \n",
       "28620                      19 - 21 Goswell Hill, Windsor   SL4 1RH   496599   \n",
       "\n",
       "       northing   latitude  longitude              local_authority  \n",
       "50041    207030  51.730275  -4.728049                Pembrokeshire  \n",
       "28166    130200  51.051143   0.161686                      Wealden  \n",
       "19036    440114  53.857121  -2.171623                       Pendle  \n",
       "47532    655736  55.777784  -4.052362            South Lanarkshire  \n",
       "18213    390441  53.406698  -2.987188                    Liverpool  \n",
       "21856    105508  50.836140  -0.261062                         Adur  \n",
       "33614    169121  51.420772  -1.718278                    Wiltshire  \n",
       "36341    287962  52.489559  -2.055300                     Sandwell  \n",
       "41247    428749  53.743523  -0.333043  Kingston upon Hull, City of  \n",
       "33662    150840  51.256123  -1.621941                    Wiltshire  \n",
       "33843    161629  51.353722  -1.943987                    Wiltshire  \n",
       "44487    754005  56.673767  -3.002251                        Angus  \n",
       "17525    508570  54.471990  -2.348912                         Eden  \n",
       "15033    562921  54.960837  -1.855608               Northumberland  \n",
       "30307     28930  50.106133  -5.549644                     Cornwall  \n",
       "15167    612752  55.408323  -1.693305               Northumberland  \n",
       "15170    585869  55.166744  -1.687375               Northumberland  \n",
       "51175    168764  51.408507  -3.482106            Vale of Glamorgan  \n",
       "36393    292518  52.530529  -1.982959                     Sandwell  \n",
       "28620    176890  51.482726  -0.610264       Windsor and Maidenhead  "
      ]
     },
     "execution_count": 22,
     "metadata": {},
     "output_type": "execute_result"
    }
   ],
   "source": [
    "data.sample(20)"
   ]
  },
  {
   "cell_type": "code",
   "execution_count": 23,
   "metadata": {},
   "outputs": [],
   "source": [
    "data.latitude = data.latitude.astype(float)\n",
    "data.longitude = data.longitude.astype(float)"
   ]
  },
  {
   "cell_type": "code",
   "execution_count": 24,
   "metadata": {},
   "outputs": [
    {
     "name": "stdout",
     "output_type": "stream",
     "text": [
      "<class 'pandas.core.frame.DataFrame'>\n",
      "Int64Index: 50564 entries, 0 to 51330\n",
      "Data columns (total 9 columns):\n",
      " #   Column           Non-Null Count  Dtype  \n",
      "---  ------           --------------  -----  \n",
      " 0   fsa_id           50564 non-null  int64  \n",
      " 1   name             50564 non-null  object \n",
      " 2   address          50564 non-null  object \n",
      " 3   postcode         50564 non-null  object \n",
      " 4   easting          50564 non-null  int64  \n",
      " 5   northing         50564 non-null  int64  \n",
      " 6   latitude         50564 non-null  float64\n",
      " 7   longitude        50564 non-null  float64\n",
      " 8   local_authority  50564 non-null  object \n",
      "dtypes: float64(2), int64(3), object(4)\n",
      "memory usage: 3.9+ MB\n"
     ]
    }
   ],
   "source": [
    "data.info()"
   ]
  },
  {
   "attachments": {},
   "cell_type": "markdown",
   "metadata": {},
   "source": [
    "### Northing"
   ]
  },
  {
   "cell_type": "code",
   "execution_count": 25,
   "metadata": {},
   "outputs": [
    {
     "data": {
      "text/plain": [
       "<Axes: ylabel='northing'>"
      ]
     },
     "execution_count": 25,
     "metadata": {},
     "output_type": "execute_result"
    },
    {
     "data": {
      "image/png": "[encoded data removed]",
      "text/plain": [
       "<Figure size 640x480 with 1 Axes>"
      ]
     },
     "metadata": {},
     "output_type": "display_data"
    }
   ],
   "source": [
    "sns.boxplot(data=data, y=data.northing)"
   ]
  },
  {
   "cell_type": "code",
   "execution_count": 26,
   "metadata": {},
   "outputs": [
    {
     "data": {
      "text/plain": [
       "<Axes: ylabel='Density'>"
      ]
     },
     "execution_count": 26,
     "metadata": {},
     "output_type": "execute_result"
    },
    {
     "data": {
      "image/png": "[encoded data removed]",
      "text/plain": [
       "<Figure size 640x480 with 1 Axes>"
      ]
     },
     "metadata": {},
     "output_type": "display_data"
    }
   ],
   "source": [
    "data.northing.plot(kind='kde')"
   ]
  },
  {
   "attachments": {},
   "cell_type": "markdown",
   "metadata": {},
   "source": [
    "### Easting"
   ]
  },
  {
   "cell_type": "code",
   "execution_count": 27,
   "metadata": {},
   "outputs": [
    {
     "data": {
      "text/plain": [
       "<Axes: ylabel='easting'>"
      ]
     },
     "execution_count": 27,
     "metadata": {},
     "output_type": "execute_result"
    },
    {
     "data": {
      "image/png": "[encoded data removed]",
      "text/plain": [
       "<Figure size 640x480 with 1 Axes>"
      ]
     },
     "metadata": {},
     "output_type": "display_data"
    }
   ],
   "source": [
    "sns.boxplot(data=data, y=data.easting)"
   ]
  },
  {
   "cell_type": "code",
   "execution_count": 28,
   "metadata": {},
   "outputs": [
    {
     "data": {
      "text/plain": [
       "<Axes: ylabel='Density'>"
      ]
     },
     "execution_count": 28,
     "metadata": {},
     "output_type": "execute_result"
    },
    {
     "data": {
      "image/png": "[encoded data removed]",
      "text/plain": [
       "<Figure size 640x480 with 1 Axes>"
      ]
     },
     "metadata": {},
     "output_type": "display_data"
    }
   ],
   "source": [
    "data.easting.plot(kind='kde')"
   ]
  },
  {
   "attachments": {},
   "cell_type": "markdown",
   "metadata": {},
   "source": [
    "### Latitude"
   ]
  },
  {
   "cell_type": "code",
   "execution_count": 29,
   "metadata": {},
   "outputs": [
    {
     "data": {
      "text/plain": [
       "<Axes: ylabel='latitude'>"
      ]
     },
     "execution_count": 29,
     "metadata": {},
     "output_type": "execute_result"
    },
    {
     "data": {
      "image/png": "[encoded data removed]",
      "text/plain": [
       "<Figure size 640x480 with 1 Axes>"
      ]
     },
     "metadata": {},
     "output_type": "display_data"
    }
   ],
   "source": [
    "sns.boxplot(data=data, y=data.latitude)"
   ]
  },
  {
   "cell_type": "code",
   "execution_count": 30,
   "metadata": {},
   "outputs": [
    {
     "data": {
      "text/plain": [
       "<Axes: ylabel='Density'>"
      ]
     },
     "execution_count": 30,
     "metadata": {},
     "output_type": "execute_result"
    },
    {
     "data": {
      "image/png": "[encoded data removed]",
      "text/plain": [
       "<Figure size 640x480 with 1 Axes>"
      ]
     },
     "metadata": {},
     "output_type": "display_data"
    }
   ],
   "source": [
    "data.latitude.plot(kind='kde')"
   ]
  },
  {
   "attachments": {},
   "cell_type": "markdown",
   "metadata": {},
   "source": [
    "### Longitude"
   ]
  },
  {
   "cell_type": "code",
   "execution_count": 31,
   "metadata": {},
   "outputs": [
    {
     "data": {
      "text/plain": [
       "<Axes: ylabel='longitude'>"
      ]
     },
     "execution_count": 31,
     "metadata": {},
     "output_type": "execute_result"
    },
    {
     "data": {
      "image/png": "[encoded data removed]",
      "text/plain": [
       "<Figure size 640x480 with 1 Axes>"
      ]
     },
     "metadata": {},
     "output_type": "display_data"
    }
   ],
   "source": [
    "sns.boxplot(data=data, y=data.longitude)"
   ]
  },
  {
   "cell_type": "code",
   "execution_count": 32,
   "metadata": {},
   "outputs": [
    {
     "data": {
      "text/plain": [
       "<Axes: ylabel='Density'>"
      ]
     },
     "execution_count": 32,
     "metadata": {},
     "output_type": "execute_result"
    },
    {
     "data": {
      "image/png": "[encoded data removed]",
      "text/plain": [
       "<Figure size 640x480 with 1 Axes>"
      ]
     },
     "metadata": {},
     "output_type": "display_data"
    }
   ],
   "source": [
    "data.longitude.plot(kind='kde')"
   ]
  },
  {
   "cell_type": "code",
   "execution_count": null,
   "metadata": {},
   "outputs": [],
   "source": []
  }
 ],
 "metadata": {
  "kernelspec": {
   "display_name": "Python 3",
   "language": "python",
   "name": "python3"
  },
  "language_info": {
   "codemirror_mode": {
    "name": "ipython",
    "version": 3
   },
   "file_extension": ".py",
   "mimetype": "text/x-python",
   "name": "python",
   "nbconvert_exporter": "python",
   "pygments_lexer": "ipython3",
   "version": "3.10.7"
  },
  "orig_nbformat": 4
 },
 "nbformat": 4,
 "nbformat_minor": 2
}
